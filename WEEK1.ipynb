{
  "nbformat": 4,
  "nbformat_minor": 0,
  "metadata": {
    "colab": {
      "name": "Untitled0.ipynb",
      "provenance": [],
      "collapsed_sections": [],
      "authorship_tag": "ABX9TyNzdvhV2Xi8Ur+vXmKV6g7I",
      "include_colab_link": true
    },
    "kernelspec": {
      "name": "python3",
      "display_name": "Python 3"
    },
    "language_info": {
      "name": "python"
    }
  },
  "cells": [
    {
      "cell_type": "markdown",
      "metadata": {
        "id": "view-in-github",
        "colab_type": "text"
      },
      "source": [
        "<a href=\"https://colab.research.google.com/github/vijay1951/vijay/blob/master/WEEK1.ipynb\" target=\"_parent\"><img src=\"https://colab.research.google.com/assets/colab-badge.svg\" alt=\"Open In Colab\"/></a>"
      ]
    },
    {
      "cell_type": "code",
      "metadata": {
        "colab": {
          "base_uri": "https://localhost:8080/"
        },
        "id": "9cY14bpUPcoe",
        "outputId": "7f874df5-fe4c-479e-fb5f-56cc4336584d"
      },
      "source": [
        "a=1\n",
        "while(a):\n",
        "  print(\"addition - 1\")\n",
        "  print(\"subtraction - 2\")\n",
        "  print(\"multiplication - 3\")\n",
        "  print(\"division - 4\")\n",
        "  x=int(input(\"Enter a num1 - \"))\n",
        "  y=int(input(\"Enter a num2 - \"))\n",
        "  z=int(input(\"Select operation - \"))\n",
        "  if(z==1): \n",
        "     print(\"Addition \",x+y)\n",
        "  elif(z==2):\n",
        "     print(\"Subtraction \",x-y) \n",
        "  elif(z==3):\n",
        "     print(\"Multiplication\",x*y)\n",
        "  elif(z==4):\n",
        "      print(\"Division\",x/y) \n",
        "  a=int(input(\"Do you want to continue (1/0)\"))             "
      ],
      "execution_count": 11,
      "outputs": [
        {
          "name": "stdout",
          "output_type": "stream",
          "text": [
            "addition - 1\n",
            "subtraction - 2\n",
            "multiplication - 3\n",
            "division - 4\n",
            "Enter a num110\n",
            "Enter a num220\n",
            "Select operation1\n",
            "addition  30\n",
            "Do you want to continue (1/0)0\n"
          ]
        }
      ]
    },
    {
      "cell_type": "code",
      "metadata": {
        "colab": {
          "base_uri": "https://localhost:8080/"
        },
        "id": "iHCHSduoQq1I",
        "outputId": "fb71a49c-8124-4aff-c228-7e7ebe13a4f8"
      },
      "source": [
        "2import calendar\n",
        "mon = int(input(\"Enter month\"))\n",
        "yer=int(input(\"enter year\"))\n",
        "x=calendar.month(yer,mon)\n",
        "print(x)"
      ],
      "execution_count": 4,
      "outputs": [
        {
          "output_type": "stream",
          "name": "stdout",
          "text": [
            "Enter month9\n",
            "enter year2020\n",
            "   September 2020\n",
            "Mo Tu We Th Fr Sa Su\n",
            "    1  2  3  4  5  6\n",
            " 7  8  9 10 11 12 13\n",
            "14 15 16 17 18 19 20\n",
            "21 22 23 24 25 26 27\n",
            "28 29 30\n",
            "\n"
          ]
        }
      ]
    }
  ]
}